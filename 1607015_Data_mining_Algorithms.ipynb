{
  "nbformat": 4,
  "nbformat_minor": 0,
  "metadata": {
    "colab": {
      "name": "1607015 Data mining Assignment.ipynb",
      "provenance": [],
      "collapsed_sections": [],
      "toc_visible": true,
      "authorship_tag": "ABX9TyNtrgW+E3uHHTmYZ5KRAabT",
      "include_colab_link": true
    },
    "kernelspec": {
      "name": "python3",
      "display_name": "Python 3"
    }
  },
  "cells": [
    {
      "cell_type": "markdown",
      "metadata": {
        "id": "view-in-github",
        "colab_type": "text"
      },
      "source": [
        "<a href=\"https://colab.research.google.com/github/t2222/hvd/blob/main/1607015_Data_mining_Algorithms.ipynb\" target=\"_parent\"><img src=\"https://colab.research.google.com/assets/colab-badge.svg\" alt=\"Open In Colab\"/></a>"
      ]
    },
    {
      "cell_type": "markdown",
      "metadata": {
        "id": "NWiOiNrD9VxC"
      },
      "source": [
        "# package installation"
      ]
    },
    {
      "cell_type": "code",
      "metadata": {
        "id": "qAOmWNIK9TsX"
      },
      "source": [
        "!pip install metis\r\n",
        "!wget http://glaros.dtc.umn.edu/gkhome/fetch/sw/metis/OLD/metis-5.0.3.tar.gz\r\n",
        "!tar -xf metis-5.0.3.tar.gz\r\n",
        "!mv metis-5.0.3/* ../content/\r\n",
        "!make config shared=1\r\n",
        "!make install\r\n",
        "%env METIS_DLL=/usr/local/lib/libmetis.so"
      ],
      "execution_count": null,
      "outputs": []
    },
    {
      "cell_type": "markdown",
      "metadata": {
        "id": "e84UoyTl9a5S"
      },
      "source": [
        "# imports"
      ]
    },
    {
      "cell_type": "code",
      "metadata": {
        "id": "4JT6vDqm9dd0"
      },
      "source": [
        "%matplotlib inline\r\n",
        "import matplotlib.pyplot as plt\r\n",
        "import seaborn as sns; sns.set()  # for plot styling\r\n",
        "import numpy as np\r\n",
        "from sklearn import *\r\n",
        "import pandas as pd\r\n",
        "from sklearn.cluster import *\r\n",
        "import random\r\n",
        "from sklearn.metrics.pairwise import pairwise_distances\r\n",
        "import random\r\n",
        "import matplotlib.pyplot as plt\r\n",
        "import metis\r\n",
        "import os\r\n",
        "import seaborn as sns\r\n",
        "from tqdm import tqdm_notebook\r\n",
        "from sklearn import datasets\r\n",
        "from sklearn.cluster import KMeans, MeanShift, DBSCAN, Birch\r\n",
        "from sklearn import metrics\r\n",
        "from sklearn.neighbors import KNeighborsClassifier, kneighbors_graph\r\n",
        "import networkx as nx\r\n",
        "import itertools\r\n",
        "from scipy.special import comb\r\n",
        "from tqdm import tqdm"
      ],
      "execution_count": null,
      "outputs": []
    },
    {
      "cell_type": "markdown",
      "metadata": {
        "id": "uoWSypjp9qUr"
      },
      "source": [
        "# Upload cereal dataset attached with submission"
      ]
    },
    {
      "cell_type": "code",
      "metadata": {
        "id": "sZdDieDw9xp1"
      },
      "source": [
        "# from google.colab import files \r\n",
        "\r\n",
        "# uploaded = files.upload()"
      ],
      "execution_count": null,
      "outputs": []
    },
    {
      "cell_type": "markdown",
      "metadata": {
        "id": "9OiCKpfcBzcV"
      },
      "source": [
        "# K means Clustering "
      ]
    },
    {
      "cell_type": "code",
      "metadata": {
        "id": "bVMfqwlKjMT-",
        "colab": {
          "base_uri": "https://localhost:8080/",
          "height": 206
        },
        "outputId": "31e052f2-73e5-4d08-b921-0b07ed2c0911"
      },
      "source": [
        "df = pd.read_csv('cereal.csv')\r\n",
        "df.head()"
      ],
      "execution_count": 34,
      "outputs": [
        {
          "output_type": "execute_result",
          "data": {
            "text/html": [
              "<div>\n",
              "<style scoped>\n",
              "    .dataframe tbody tr th:only-of-type {\n",
              "        vertical-align: middle;\n",
              "    }\n",
              "\n",
              "    .dataframe tbody tr th {\n",
              "        vertical-align: top;\n",
              "    }\n",
              "\n",
              "    .dataframe thead th {\n",
              "        text-align: right;\n",
              "    }\n",
              "</style>\n",
              "<table border=\"1\" class=\"dataframe\">\n",
              "  <thead>\n",
              "    <tr style=\"text-align: right;\">\n",
              "      <th></th>\n",
              "      <th>serial</th>\n",
              "      <th>calories</th>\n",
              "      <th>sodium</th>\n",
              "    </tr>\n",
              "  </thead>\n",
              "  <tbody>\n",
              "    <tr>\n",
              "      <th>0</th>\n",
              "      <td>1</td>\n",
              "      <td>70</td>\n",
              "      <td>130</td>\n",
              "    </tr>\n",
              "    <tr>\n",
              "      <th>1</th>\n",
              "      <td>2</td>\n",
              "      <td>120</td>\n",
              "      <td>15</td>\n",
              "    </tr>\n",
              "    <tr>\n",
              "      <th>2</th>\n",
              "      <td>3</td>\n",
              "      <td>70</td>\n",
              "      <td>260</td>\n",
              "    </tr>\n",
              "    <tr>\n",
              "      <th>3</th>\n",
              "      <td>4</td>\n",
              "      <td>50</td>\n",
              "      <td>140</td>\n",
              "    </tr>\n",
              "    <tr>\n",
              "      <th>4</th>\n",
              "      <td>5</td>\n",
              "      <td>110</td>\n",
              "      <td>200</td>\n",
              "    </tr>\n",
              "  </tbody>\n",
              "</table>\n",
              "</div>"
            ],
            "text/plain": [
              "   serial  calories  sodium\n",
              "0       1        70     130\n",
              "1       2       120      15\n",
              "2       3        70     260\n",
              "3       4        50     140\n",
              "4       5       110     200"
            ]
          },
          "metadata": {
            "tags": []
          },
          "execution_count": 34
        }
      ]
    },
    {
      "cell_type": "code",
      "metadata": {
        "id": "ZbFFwjuLgYlp",
        "colab": {
          "base_uri": "https://localhost:8080/",
          "height": 358
        },
        "outputId": "9ed99dc9-fc5c-4fed-b7dd-c4a65f35f890"
      },
      "source": [
        "plt.scatter(df.calories,df['sodium'])\r\n",
        "plt.xlabel(\"calories\")\r\n",
        "plt.ylabel(\"sodium\")\r\n",
        "number_of_clusters = 3\r\n",
        "km = KMeans(n_clusters=number_of_clusters, n_init=10, max_iter=300, precompute_distances=True)\r\n",
        "y_predicted = km.fit_predict(df[['calories','sodium']])\r\n",
        "df['cluster'] = y_predicted\r\n",
        "df.head()\r\n",
        "km.labels_\r\n"
      ],
      "execution_count": 35,
      "outputs": [
        {
          "output_type": "execute_result",
          "data": {
            "text/plain": [
              "array([0, 2, 1, 0, 1, 0, 0, 1, 1, 1, 1, 1, 1, 0, 0, 1, 1, 0, 0, 0, 2, 1,\n",
              "       0, 0, 0, 1, 2, 0, 1, 0, 2, 1, 0, 0, 2, 1, 1, 0, 0, 0, 1, 0, 0, 2,\n",
              "       0, 0, 0, 1, 0, 1, 0, 0, 1, 1, 2, 2, 0, 2, 1, 0, 2, 1, 1, 2, 2, 2,\n",
              "       2, 1, 2, 1, 0, 1, 1, 0, 1, 1, 1], dtype=int32)"
            ]
          },
          "metadata": {
            "tags": []
          },
          "execution_count": 35
        },
        {
          "output_type": "display_data",
          "data": {
            "image/png": "[encoded data removed]",
            "text/plain": [
              "<Figure size 432x288 with 1 Axes>"
            ]
          },
          "metadata": {
            "tags": []
          }
        }
      ]
    },
    {
      "cell_type": "code",
      "metadata": {
        "id": "DZIzgmY-agbG",
        "colab": {
          "base_uri": "https://localhost:8080/",
          "height": 303
        },
        "outputId": "db7a3af7-a1da-43d3-844f-b1aedafdc50e"
      },
      "source": [
        "df1 = df[df.cluster==0]\r\n",
        "df2 = df[df.cluster==1]\r\n",
        "df3 = df[df.cluster==2]\r\n",
        "plt.scatter(df1.calories,df1['sodium'],color='green')\r\n",
        "plt.scatter(df2.calories,df2['sodium'],color='red')\r\n",
        "plt.scatter(df3.calories,df3['sodium'],color='black')\r\n",
        "plt.scatter(km.cluster_centers_[:,0],km.cluster_centers_[:,1],color='purple',marker='*',label='centroid')\r\n",
        "plt.xlabel('calories')\r\n",
        "plt.ylabel('sodium')\r\n",
        "plt.legend()\r\n"
      ],
      "execution_count": 36,
      "outputs": [
        {
          "output_type": "execute_result",
          "data": {
            "text/plain": [
              "<matplotlib.legend.Legend at 0x7f9d27ce7da0>"
            ]
          },
          "metadata": {
            "tags": []
          },
          "execution_count": 36
        },
        {
          "output_type": "display_data",
          "data": {
            "image/png": "[encoded data removed]",
            "text/plain": [
              "<Figure size 432x288 with 1 Axes>"
            ]
          },
          "metadata": {
            "tags": []
          }
        }
      ]
    },
    {
      "cell_type": "markdown",
      "metadata": {
        "id": "7kJVHn_jIhVW"
      },
      "source": [
        "# BIRCH"
      ]
    },
    {
      "cell_type": "code",
      "metadata": {
        "id": "oBmBtZ8ZGfyv",
        "colab": {
          "base_uri": "https://localhost:8080/",
          "height": 322
        },
        "outputId": "847831c8-05d7-4145-c9d2-f759094d1220"
      },
      "source": [
        "#Birch\r\n",
        "plt.scatter(df.calories,df['sodium'])\r\n",
        "plt.xlabel(\"calories\")\r\n",
        "plt.ylabel(\"sodium\")\r\n",
        "bir = Birch(threshold=0.5, branching_factor=50, n_clusters=3, compute_labels=True, copy=True)\r\n",
        "y_predicted = bir.fit_predict(df[['calories','sodium']])\r\n",
        "df['bi_cluster'] = y_predicted\r\n",
        "df.head()\r\n",
        "df1 = df[df.bi_cluster==0]\r\n",
        "df2 = df[df.bi_cluster==1]\r\n",
        "df3 = df[df.bi_cluster==2]\r\n",
        "plt.scatter(df1.calories,df1['sodium'],color='green')\r\n",
        "plt.scatter(df2.calories,df2['sodium'],color='red')\r\n",
        "plt.scatter(df3.calories,df3['sodium'],color='black')\r\n",
        "plt.xlabel('calories')\r\n",
        "plt.ylabel('sodium')\r\n",
        "plt.legend()"
      ],
      "execution_count": 37,
      "outputs": [
        {
          "output_type": "stream",
          "text": [
            "No handles with labels found to put in legend.\n"
          ],
          "name": "stderr"
        },
        {
          "output_type": "execute_result",
          "data": {
            "text/plain": [
              "<matplotlib.legend.Legend at 0x7f9d2766bef0>"
            ]
          },
          "metadata": {
            "tags": []
          },
          "execution_count": 37
        },
        {
          "output_type": "display_data",
          "data": {
            "image/png": "[encoded data removed]",
            "text/plain": [
              "<Figure size 432x288 with 1 Axes>"
            ]
          },
          "metadata": {
            "tags": []
          }
        }
      ]
    },
    {
      "cell_type": "markdown",
      "metadata": {
        "id": "Rfi09pCSJGdQ"
      },
      "source": [
        "# CHAMELEON"
      ]
    },
    {
      "cell_type": "code",
      "metadata": {
        "id": "s3q8WEGomwxn"
      },
      "source": [
        "class Chameleon():\r\n",
        "    def __init__(self):\r\n",
        "        self.cmap = plt.get_cmap('viridis')\r\n",
        "        self.colors = [self.cmap(i) for i in np.linspace(0, 1, 10)]\r\n",
        "\r\n",
        "    def plot2d_graph(self, graph):\r\n",
        "        pos = nx.get_node_attributes(graph, 'pos')\r\n",
        "        c = [self.colors[i % (len(self.colors))]\r\n",
        "             for i in nx.get_node_attributes(graph, 'cluster').values()]\r\n",
        "        if c:  # is set\r\n",
        "            nx.draw(graph, pos, node_color=c, node_size=0.25)\r\n",
        "        else:\r\n",
        "            nx.draw(graph, pos, node_size=0.25)\r\n",
        "        plt.show(block=False)\r\n",
        "\r\n",
        "    def plot2d_data(self, df):\r\n",
        "        if (len(df.columns) > 3):\r\n",
        "            print(\"Plot Waring: more than 2-Dimensions!\")\r\n",
        "        df.plot(kind='scatter', c=df['cluster'], cmap='gist_rainbow', x=0, y=1)\r\n",
        "        plt.show(block=False)\r\n",
        "\r\n",
        "    def euclidean_distance(self, a, b):\r\n",
        "        return np.linalg.norm(np.array(a) - np.array(b))\r\n",
        "\r\n",
        "    def knn_graph(self, df, k, verbose=False):\r\n",
        "        points = [p[1:] for p in df.itertuples()]\r\n",
        "        g = nx.Graph()\r\n",
        "        for i in range(0, len(points)):\r\n",
        "            g.add_node(i)\r\n",
        "        if verbose:\r\n",
        "            print(\"Building kNN graph (k = %d)...\" % (k))\r\n",
        "        iterpoints = tqdm(enumerate(points), total=len(\r\n",
        "            points)) if verbose else enumerate(points)\r\n",
        "        for i, p in iterpoints:\r\n",
        "            distances = list(\r\n",
        "                map(lambda x: self.euclidean_distance(p, x), points))\r\n",
        "            # second trough kth closest\r\n",
        "            closests = np.argsort(distances)[1:k+1]\r\n",
        "            # print(distances[0])\r\n",
        "            for c in closests:\r\n",
        "                g.add_edge(i, c, weight=1.0 / distances[c], similarity=int(\r\n",
        "                    1.0 / distances[c] * 1e4))\r\n",
        "            g.nodes[i]['pos'] = p\r\n",
        "        g.graph['edge_weight_attr'] = 'similarity'\r\n",
        "        return g\r\n",
        "\r\n",
        "    def part_graph(self, graph, k, df=None):\r\n",
        "        \r\n",
        "        edgecuts, parts = metis.part_graph(\r\n",
        "            graph, 2 , objtype='cut')\r\n",
        "        # print(edgecuts)\r\n",
        "        for i, p in enumerate(graph.nodes()):\r\n",
        "            graph.nodes[p]['cluster'] = parts[i]\r\n",
        "        if df is not None:\r\n",
        "            df['cluster'] = nx.get_node_attributes(graph, 'cluster').values()\r\n",
        "        return graph\r\n",
        "\r\n",
        "    def pre_part_graph(self, graph, k, df=None, verbose=False):\r\n",
        "        if verbose:\r\n",
        "            print(\"Begin clustering...\")\r\n",
        "        clusters = 0\r\n",
        "        for i, p in enumerate(graph.nodes()):\r\n",
        "            graph.nodes[p]['cluster'] = 0\r\n",
        "        cnts = {}\r\n",
        "        cnts[0] = len(graph.nodes())\r\n",
        "        while clusters < k - 1:\r\n",
        "            maxc = -1\r\n",
        "            maxcnt = 0\r\n",
        "            for key, val in cnts.items():\r\n",
        "                if val > maxcnt:\r\n",
        "                    maxcnt = val\r\n",
        "                    maxc = key\r\n",
        "            s_nodes = [n for n in graph.nodes if graph.nodes[n]\r\n",
        "                       ['cluster'] == maxc]\r\n",
        "            s_graph = graph.subgraph(s_nodes)\r\n",
        "            edgecuts, parts = metis.part_graph(\r\n",
        "                s_graph, 2 , objtype='cut')\r\n",
        "            new_part_cnt = 0\r\n",
        "            for i, p in enumerate(s_graph.nodes()):\r\n",
        "                if parts[i] == 1:\r\n",
        "                    graph.nodes[p]['cluster'] = clusters + 1\r\n",
        "                    new_part_cnt = new_part_cnt + 1\r\n",
        "            cnts[maxc] = cnts[maxc] - new_part_cnt\r\n",
        "            cnts[clusters + 1] = new_part_cnt\r\n",
        "            clusters = clusters + 1\r\n",
        "        \r\n",
        "        edgecuts, parts = metis.part_graph(graph, k)\r\n",
        "        if df is not None:\r\n",
        "            df['cluster'] = nx.get_node_attributes(graph, 'cluster').values()\r\n",
        "        return graph\r\n",
        "\r\n",
        "    def get_cluster(self, graph, clusters):\r\n",
        "        nodes = [n for n in graph.nodes if graph.nodes[n]['cluster'] in clusters]\r\n",
        "        return nodes\r\n",
        "\r\n",
        "    def connecting_edges(self, partitions, graph):\r\n",
        "        cut_set = []\r\n",
        "        for a in partitions[0]:\r\n",
        "            for b in partitions[1]:\r\n",
        "                if a in graph:\r\n",
        "                    if b in graph[a]:\r\n",
        "                        cut_set.append((a, b))\r\n",
        "        return cut_set\r\n",
        "\r\n",
        "    def min_cut_bisector(self, graph):\r\n",
        "        graph = graph.copy()\r\n",
        "        graph = self.part_graph(graph, 2)\r\n",
        "        partitions = self.get_cluster(graph, [0]), self.get_cluster(graph, [1])\r\n",
        "        return self.connecting_edges(partitions, graph)\r\n",
        "\r\n",
        "    def get_weights(self, graph, edges):\r\n",
        "        return [graph[edge[0]][edge[1]]['weight'] for edge in edges]\r\n",
        "\r\n",
        "    def bisection_weights(self, graph, cluster):\r\n",
        "        cluster = graph.subgraph(cluster)\r\n",
        "        edges = self.min_cut_bisector(cluster)\r\n",
        "        weights = self.get_weights(cluster, edges)\r\n",
        "        return weights\r\n",
        "\r\n",
        "\r\n",
        "    def external_index(self , v1, v2):\r\n",
        "        TP, FN, FP, TN = self.confusion_index(v1, v2)\r\n",
        "        RI = (TP + TN) / (TP + FN + FP + TN)\r\n",
        "        ARI = 2 * (TP * TN - FN * FP) / ((TP + FN) *\r\n",
        "                                        (FN + TN) + (TP + FP) * (FP + TN))\r\n",
        "        JI = TP / (TP + FN + FP)\r\n",
        "        FM = TP / np.sqrt((TP + FN) * (TP + FP))\r\n",
        "        return RI, ARI, JI, FM\r\n",
        "\r\n",
        "\r\n",
        "    def confusion_index(self , v1, v2):\r\n",
        "        cmatrix = self.contingency(v1, v2)\r\n",
        "        size = np.size(v1)\r\n",
        "        sum_rows = np.sum(cmatrix, 0)\r\n",
        "        sum_cols = np.sum(cmatrix, 1)\r\n",
        "        N = comb(size, 2)\r\n",
        "        TP = np.sum(list(map(lambda x: comb(x, 2), cmatrix)))\r\n",
        "        FN = np.sum(list(map(lambda x: comb(x, 2), sum_rows))) - TP\r\n",
        "        FP = np.sum(list(map(lambda x: comb(x, 2), sum_cols))) - TP\r\n",
        "        TN = N - TP - FN - FP\r\n",
        "        return TP, FN, FP, TN\r\n",
        "\r\n",
        "\r\n",
        "    def contingency(self , v1, v2):\r\n",
        "        res = np.zeros((np.max(v1), np.max(v2)))\r\n",
        "        for i in range(0, np.size(v1)):\r\n",
        "            res[v1[i] - 1, v2[i] - 1] = res[v1[i] - 1, v2[i] - 1] + 1\r\n",
        "        return res\r\n",
        "\r\n",
        "\r\n",
        "    def internal_interconnectivity(self , graph, cluster):\r\n",
        "        return np.sum(self.bisection_weights(graph, cluster))\r\n",
        "\r\n",
        "\r\n",
        "    def relative_interconnectivity(self , graph, cluster_i, cluster_j):\r\n",
        "        edges = self.connecting_edges((cluster_i, cluster_j), graph)\r\n",
        "        EC = np.sum(self.get_weights(graph, edges))\r\n",
        "        ECci, ECcj = self.internal_interconnectivity(graph, cluster_i), self.internal_interconnectivity(graph, cluster_j)\r\n",
        "        return EC / ((ECci + ECcj) / 2.0)\r\n",
        "\r\n",
        "\r\n",
        "    def internal_closeness(self , graph, cluster):\r\n",
        "        cluster = graph.subgraph(cluster)\r\n",
        "        edges = cluster.edges()\r\n",
        "        weights = self.get_weights(cluster, edges)\r\n",
        "        return np.sum(weights)\r\n",
        "\r\n",
        "\r\n",
        "    def relative_closeness(self , graph, cluster_i, cluster_j):\r\n",
        "        edges = self.connecting_edges((cluster_i, cluster_j), graph)\r\n",
        "        if not edges:\r\n",
        "            return 0.0\r\n",
        "        else:\r\n",
        "            SEC = np.mean(self.get_weights(graph, edges))\r\n",
        "        Ci, Cj = self.internal_closeness(graph, cluster_i), self.internal_closeness(graph, cluster_j)\r\n",
        "        SECci, SECcj = np.mean(self.bisection_weights(graph, cluster_i)), np.mean(\r\n",
        "            self.bisection_weights(graph, cluster_j))\r\n",
        "        return SEC / ((Ci / (Ci + Cj) * SECci) + (Cj / (Ci + Cj) * SECcj))\r\n",
        "\r\n",
        "\r\n",
        "    def merge_score(self , g, ci, cj, a):\r\n",
        "        return self.relative_interconnectivity(g, ci, cj) * np.power(self.relative_closeness(g, ci, cj), a)\r\n",
        "\r\n",
        "\r\n",
        "    def merge_best(self , graph, df, a, k, verbose=False):\r\n",
        "        clusters = np.unique(df['cluster'])\r\n",
        "        max_score = 0\r\n",
        "        ci, cj = -1, -1\r\n",
        "        if len(clusters) <= k:\r\n",
        "            return False\r\n",
        "\r\n",
        "        for combination in itertools.combinations(clusters, 2):\r\n",
        "            i, j = combination\r\n",
        "            if i != j:\r\n",
        "                if verbose:\r\n",
        "                    print(\"Checking c%d c%d\" % (i, j))\r\n",
        "                gi = self.get_cluster(graph, [i])\r\n",
        "                gj = self.get_cluster(graph, [j])\r\n",
        "                edges = self.connecting_edges((gi, gj), graph)\r\n",
        "                if not edges:\r\n",
        "                    continue\r\n",
        "                ms = self.merge_score(graph, gi, gj, a)\r\n",
        "                if verbose:\r\n",
        "                    print(\"Merge score: %f\" % (ms))\r\n",
        "                if ms > max_score:\r\n",
        "                    if verbose:\r\n",
        "                        print(\"Better than: %f\" % (max_score))\r\n",
        "                    max_score = ms\r\n",
        "                    ci, cj = i, j\r\n",
        "\r\n",
        "        if max_score > 0:\r\n",
        "            if verbose:\r\n",
        "                print(\"Merging c%d and c%d\" % (ci, cj))\r\n",
        "            df.loc[df['cluster'] == cj, 'cluster'] = ci\r\n",
        "            for i, p in enumerate(graph.nodes()):\r\n",
        "                if graph.nodes[p]['cluster'] == cj:\r\n",
        "                    graph.nodes[p]['cluster'] = ci\r\n",
        "                \r\n",
        "        return max_score > 0\r\n",
        "\r\n",
        "\r\n",
        "    def cluster(self , df, k, knn=10, m=30, alpha=2.0, verbose=False, plot=False):\r\n",
        "        graph = self.knn_graph(df, knn, verbose=True)\r\n",
        "        graph = self.pre_part_graph(graph, m, df, verbose=True)\r\n",
        "        iterm = tqdm(enumerate(range(m - k)), total=m-k)\r\n",
        "        for i in iterm:\r\n",
        "            self.merge_best(graph, df, alpha, k, verbose)\r\n",
        "            if plot:\r\n",
        "                self.plot2d_data(df)\r\n",
        "        res = self.rebuild_labels(df)\r\n",
        "        return res\r\n",
        "\r\n",
        "\r\n",
        "    def rebuild_labels(self , df):\r\n",
        "        ans = df.copy()\r\n",
        "        clusters = list(pd.DataFrame(df['cluster'].value_counts()).index)\r\n",
        "        c = 1\r\n",
        "        for i in clusters:\r\n",
        "            ans.loc[df['cluster'] == i, 'cluster'] = c\r\n",
        "            c = c + 1\r\n",
        "        return ans\r\n"
      ],
      "execution_count": 54,
      "outputs": []
    },
    {
      "cell_type": "code",
      "metadata": {
        "id": "tlGdTbMcA3TJ",
        "colab": {
          "base_uri": "https://localhost:8080/",
          "height": 424
        },
        "outputId": "0675770d-dd1b-4313-884d-99865a30d6dd"
      },
      "source": [
        "df = pd.read_csv('cereal.csv')\r\n",
        "df"
      ],
      "execution_count": 55,
      "outputs": [
        {
          "output_type": "execute_result",
          "data": {
            "text/html": [
              "<div>\n",
              "<style scoped>\n",
              "    .dataframe tbody tr th:only-of-type {\n",
              "        vertical-align: middle;\n",
              "    }\n",
              "\n",
              "    .dataframe tbody tr th {\n",
              "        vertical-align: top;\n",
              "    }\n",
              "\n",
              "    .dataframe thead th {\n",
              "        text-align: right;\n",
              "    }\n",
              "</style>\n",
              "<table border=\"1\" class=\"dataframe\">\n",
              "  <thead>\n",
              "    <tr style=\"text-align: right;\">\n",
              "      <th></th>\n",
              "      <th>serial</th>\n",
              "      <th>calories</th>\n",
              "      <th>sodium</th>\n",
              "    </tr>\n",
              "  </thead>\n",
              "  <tbody>\n",
              "    <tr>\n",
              "      <th>0</th>\n",
              "      <td>1</td>\n",
              "      <td>70</td>\n",
              "      <td>130</td>\n",
              "    </tr>\n",
              "    <tr>\n",
              "      <th>1</th>\n",
              "      <td>2</td>\n",
              "      <td>120</td>\n",
              "      <td>15</td>\n",
              "    </tr>\n",
              "    <tr>\n",
              "      <th>2</th>\n",
              "      <td>3</td>\n",
              "      <td>70</td>\n",
              "      <td>260</td>\n",
              "    </tr>\n",
              "    <tr>\n",
              "      <th>3</th>\n",
              "      <td>4</td>\n",
              "      <td>50</td>\n",
              "      <td>140</td>\n",
              "    </tr>\n",
              "    <tr>\n",
              "      <th>4</th>\n",
              "      <td>5</td>\n",
              "      <td>110</td>\n",
              "      <td>200</td>\n",
              "    </tr>\n",
              "    <tr>\n",
              "      <th>...</th>\n",
              "      <td>...</td>\n",
              "      <td>...</td>\n",
              "      <td>...</td>\n",
              "    </tr>\n",
              "    <tr>\n",
              "      <th>72</th>\n",
              "      <td>73</td>\n",
              "      <td>110</td>\n",
              "      <td>250</td>\n",
              "    </tr>\n",
              "    <tr>\n",
              "      <th>73</th>\n",
              "      <td>74</td>\n",
              "      <td>110</td>\n",
              "      <td>140</td>\n",
              "    </tr>\n",
              "    <tr>\n",
              "      <th>74</th>\n",
              "      <td>75</td>\n",
              "      <td>100</td>\n",
              "      <td>230</td>\n",
              "    </tr>\n",
              "    <tr>\n",
              "      <th>75</th>\n",
              "      <td>76</td>\n",
              "      <td>100</td>\n",
              "      <td>200</td>\n",
              "    </tr>\n",
              "    <tr>\n",
              "      <th>76</th>\n",
              "      <td>77</td>\n",
              "      <td>110</td>\n",
              "      <td>200</td>\n",
              "    </tr>\n",
              "  </tbody>\n",
              "</table>\n",
              "<p>77 rows × 3 columns</p>\n",
              "</div>"
            ],
            "text/plain": [
              "    serial  calories  sodium\n",
              "0        1        70     130\n",
              "1        2       120      15\n",
              "2        3        70     260\n",
              "3        4        50     140\n",
              "4        5       110     200\n",
              "..     ...       ...     ...\n",
              "72      73       110     250\n",
              "73      74       110     140\n",
              "74      75       100     230\n",
              "75      76       100     200\n",
              "76      77       110     200\n",
              "\n",
              "[77 rows x 3 columns]"
            ]
          },
          "metadata": {
            "tags": []
          },
          "execution_count": 55
        }
      ]
    },
    {
      "cell_type": "code",
      "metadata": {
        "colab": {
          "base_uri": "https://localhost:8080/",
          "height": 1000
        },
        "id": "lLGFkCylzMOb",
        "outputId": "8283202f-40f3-4c0b-c69a-550740b982f1"
      },
      "source": [
        "chameleon_cluster = Chameleon()\r\n",
        "# returns a pands.dataframe of cluster\r\n",
        "res = chameleon_cluster.cluster(df, 2, knn=20, m=40, alpha=2.0, plot=False)\r\n",
        "# draw a 2-D scatter plot with cluster\r\n",
        "chameleon_cluster.plot2d_data(res)"
      ],
      "execution_count": 57,
      "outputs": [
        {
          "output_type": "stream",
          "text": [
            "\n",
            "100%|██████████| 77/77 [00:00<00:00, 892.95it/s]\n",
            "\n",
            "  0%|          | 0/38 [00:00<?, ?it/s]\u001b[A"
          ],
          "name": "stderr"
        },
        {
          "output_type": "stream",
          "text": [
            "Building kNN graph (k = 20)...\n",
            "Begin clustering...\n"
          ],
          "name": "stdout"
        },
        {
          "output_type": "stream",
          "text": [
            "/usr/local/lib/python3.6/dist-packages/ipykernel_launcher.py:159: RuntimeWarning: divide by zero encountered in double_scalars\n",
            "/usr/local/lib/python3.6/dist-packages/numpy/core/fromnumeric.py:3373: RuntimeWarning: Mean of empty slice.\n",
            "  out=out, **kwargs)\n",
            "/usr/local/lib/python3.6/dist-packages/numpy/core/_methods.py:170: RuntimeWarning: invalid value encountered in double_scalars\n",
            "  ret = ret.dtype.type(ret / rcount)\n",
            "\n",
            "  3%|▎         | 1/38 [00:00<00:13,  2.78it/s]\u001b[A\n",
            "  5%|▌         | 2/38 [00:00<00:12,  2.81it/s]\u001b[A\n",
            "  8%|▊         | 3/38 [00:01<00:12,  2.85it/s]\u001b[A\n",
            " 11%|█         | 4/38 [00:01<00:11,  2.87it/s]\u001b[A\n",
            " 13%|█▎        | 5/38 [00:01<00:11,  2.88it/s]\u001b[A\n",
            " 16%|█▌        | 6/38 [00:02<00:11,  2.89it/s]\u001b[A\n",
            " 18%|█▊        | 7/38 [00:02<00:10,  2.86it/s]\u001b[A\n",
            " 21%|██        | 8/38 [00:02<00:10,  2.85it/s]\u001b[A\n",
            " 24%|██▎       | 9/38 [00:03<00:10,  2.88it/s]\u001b[A\n",
            " 26%|██▋       | 10/38 [00:03<00:10,  2.80it/s]\u001b[A\n",
            " 29%|██▉       | 11/38 [00:03<00:09,  2.83it/s]\u001b[A\n",
            " 32%|███▏      | 12/38 [00:04<00:09,  2.87it/s]\u001b[A\n",
            " 34%|███▍      | 13/38 [00:04<00:08,  2.89it/s]\u001b[A\n",
            " 37%|███▋      | 14/38 [00:04<00:08,  2.87it/s]\u001b[A\n",
            " 39%|███▉      | 15/38 [00:05<00:07,  2.89it/s]\u001b[A\n",
            " 42%|████▏     | 16/38 [00:05<00:07,  2.88it/s]\u001b[A\n",
            " 45%|████▍     | 17/38 [00:05<00:07,  2.88it/s]\u001b[A\n",
            " 47%|████▋     | 18/38 [00:06<00:06,  2.91it/s]\u001b[A\n",
            " 50%|█████     | 19/38 [00:06<00:06,  2.89it/s]\u001b[A\n",
            " 53%|█████▎    | 20/38 [00:06<00:06,  2.91it/s]\u001b[A\n",
            " 55%|█████▌    | 21/38 [00:07<00:05,  2.92it/s]\u001b[A\n",
            " 58%|█████▊    | 22/38 [00:07<00:05,  2.82it/s]\u001b[A\n",
            " 61%|██████    | 23/38 [00:08<00:05,  2.85it/s]\u001b[A\n",
            " 63%|██████▎   | 24/38 [00:08<00:04,  2.88it/s]\u001b[A\n",
            " 66%|██████▌   | 25/38 [00:08<00:04,  2.87it/s]\u001b[A\n",
            " 68%|██████▊   | 26/38 [00:09<00:04,  2.89it/s]\u001b[A\n",
            " 71%|███████   | 27/38 [00:09<00:03,  2.91it/s]\u001b[A\n",
            " 74%|███████▎  | 28/38 [00:09<00:03,  2.91it/s]\u001b[A\n",
            " 76%|███████▋  | 29/38 [00:10<00:03,  2.93it/s]\u001b[A\n",
            " 79%|███████▉  | 30/38 [00:10<00:02,  2.91it/s]\u001b[A\n",
            " 82%|████████▏ | 31/38 [00:10<00:02,  2.89it/s]\u001b[A\n",
            " 84%|████████▍ | 32/38 [00:11<00:02,  2.90it/s]\u001b[A\n",
            " 87%|████████▋ | 33/38 [00:11<00:01,  2.91it/s]\u001b[A\n",
            " 89%|████████▉ | 34/38 [00:11<00:01,  2.89it/s]\u001b[A\n",
            " 92%|█████████▏| 35/38 [00:12<00:01,  2.91it/s]\u001b[A\n",
            " 95%|█████████▍| 36/38 [00:12<00:00,  2.89it/s]\u001b[A\n",
            " 97%|█████████▋| 37/38 [00:12<00:00,  2.90it/s]\u001b[A\n",
            "100%|██████████| 38/38 [00:13<00:00,  2.89it/s]\n"
          ],
          "name": "stderr"
        },
        {
          "output_type": "stream",
          "text": [
            "Plot Waring: more than 2-Dimensions!\n"
          ],
          "name": "stdout"
        },
        {
          "output_type": "display_data",
          "data": {
            "image/png": "[encoded data removed]",
            "text/plain": [
              "<Figure size 432x288 with 2 Axes>"
            ]
          },
          "metadata": {
            "tags": []
          }
        }
      ]
    },
    {
      "cell_type": "markdown",
      "metadata": {
        "id": "xi6pFlHeBUjW"
      },
      "source": [
        "# K medoid (Implementation)"
      ]
    },
    {
      "cell_type": "code",
      "metadata": {
        "id": "tPCNiATcCNlq"
      },
      "source": [
        "def kMedoids(D, k, tmax=100):\r\n",
        "    # determine dimensions of distance matrix D\r\n",
        "    m, n = D.shape\r\n",
        "\r\n",
        "    if k > n:\r\n",
        "        raise Exception('too many medoids')\r\n",
        "\r\n",
        "    # find a set of valid initial cluster medoid indices since we\r\n",
        "    # can't seed different clusters with two points at the same location\r\n",
        "    valid_medoid_inds = set(range(n))\r\n",
        "    invalid_medoid_inds = set([])\r\n",
        "    rs,cs = np.where(D==0)\r\n",
        "    # the rows, cols must be shuffled because we will keep the first duplicate below\r\n",
        "    index_shuf = list(range(len(rs)))\r\n",
        "    np.random.shuffle(index_shuf)\r\n",
        "    rs = rs[index_shuf]\r\n",
        "    cs = cs[index_shuf]\r\n",
        "    for r,c in zip(rs,cs):\r\n",
        "        # if there are two points with a distance of 0...\r\n",
        "        # keep the first one for cluster init\r\n",
        "        if r < c and r not in invalid_medoid_inds:\r\n",
        "            invalid_medoid_inds.add(c)\r\n",
        "    valid_medoid_inds = list(valid_medoid_inds - invalid_medoid_inds)\r\n",
        "\r\n",
        "    if k > len(valid_medoid_inds):\r\n",
        "        raise Exception('too many medoids (after removing {} duplicate points)'.format(\r\n",
        "            len(invalid_medoid_inds)))\r\n",
        "\r\n",
        "    # randomly initialize an array of k medoid indices\r\n",
        "    M = np.array(valid_medoid_inds)\r\n",
        "    np.random.shuffle(M)\r\n",
        "    M = np.sort(M[:k])\r\n",
        "\r\n",
        "    # create a copy of the array of medoid indices\r\n",
        "    Mnew = np.copy(M)\r\n",
        "\r\n",
        "    # initialize a dictionary to represent clusters\r\n",
        "    C = {}\r\n",
        "    for t in range(tmax):\r\n",
        "        # determine clusters, i. e. arrays of data indices\r\n",
        "        J = np.argmin(D[:,M], axis=1)\r\n",
        "        for kappa in range(k):\r\n",
        "            C[kappa] = np.where(J==kappa)[0]\r\n",
        "        # update cluster medoids\r\n",
        "        for kappa in range(k):\r\n",
        "            J = np.mean(D[np.ix_(C[kappa],C[kappa])],axis=1)\r\n",
        "            j = np.argmin(J)\r\n",
        "            Mnew[kappa] = C[kappa][j]\r\n",
        "        np.sort(Mnew)\r\n",
        "        # check for convergence\r\n",
        "        if np.array_equal(M, Mnew):\r\n",
        "            break\r\n",
        "        M = np.copy(Mnew)\r\n",
        "    else:\r\n",
        "        # final update of cluster memberships\r\n",
        "        J = np.argmin(D[:,M], axis=1)\r\n",
        "        for kappa in range(k):\r\n",
        "            C[kappa] = np.where(J==kappa)[0]\r\n",
        "\r\n",
        "    # return results\r\n",
        "    return M, C"
      ],
      "execution_count": 16,
      "outputs": []
    },
    {
      "cell_type": "markdown",
      "metadata": {
        "id": "yUCRecT0sD4-"
      },
      "source": [
        "read data from csv"
      ]
    },
    {
      "cell_type": "code",
      "metadata": {
        "id": "_XwDxmZFDR5j"
      },
      "source": [
        "df = pd.read_csv('cereal.csv')\r\n",
        "data_array = np.array(df[['calories','sodium']])"
      ],
      "execution_count": 45,
      "outputs": []
    },
    {
      "cell_type": "code",
      "metadata": {
        "id": "IsLwAwX0H79l",
        "colab": {
          "base_uri": "https://localhost:8080/",
          "height": 322
        },
        "outputId": "d7dd25eb-f3d1-412d-effd-897f8f0dad47"
      },
      "source": [
        "# plot data\r\n",
        "plt.scatter(df.calories,df['sodium'],color='green')\r\n",
        "plt.xlabel('calories')\r\n",
        "plt.ylabel('sodium')\r\n",
        "plt.legend()"
      ],
      "execution_count": 46,
      "outputs": [
        {
          "output_type": "stream",
          "text": [
            "No handles with labels found to put in legend.\n"
          ],
          "name": "stderr"
        },
        {
          "output_type": "execute_result",
          "data": {
            "text/plain": [
              "<matplotlib.legend.Legend at 0x7f9d277c7ac8>"
            ]
          },
          "metadata": {
            "tags": []
          },
          "execution_count": 46
        },
        {
          "output_type": "display_data",
          "data": {
            "image/png": "[encoded data removed]",
            "text/plain": [
              "<Figure size 432x288 with 1 Axes>"
            ]
          },
          "metadata": {
            "tags": []
          }
        }
      ]
    },
    {
      "cell_type": "code",
      "metadata": {
        "id": "ffCMht-NHStm",
        "colab": {
          "base_uri": "https://localhost:8080/"
        },
        "outputId": "cf488df1-35c6-4ae3-8a85-56c039945e44"
      },
      "source": [
        "# Apply algorithm\r\n",
        "# distance matrix\r\n",
        "D = pairwise_distances(data_array, metric='euclidean')\r\n",
        "\r\n",
        "# split into 3 clusters\r\n",
        "M, C = kMedoids(D, 3)\r\n",
        "dict_of_result = {} # store result\r\n",
        "print('medoids:')\r\n",
        "for point_idx in M:\r\n",
        "    print(data_array[point_idx] )\r\n",
        "\r\n",
        "print('')\r\n",
        "print('clustering result:')\r\n",
        "for label in C:\r\n",
        "    for point_idx in C[label]:\r\n",
        "        print('label {0}:　{1}'.format(label, data_array[point_idx]))\r\n",
        "        dict_of_result[label] = data_array[point_idx]"
      ],
      "execution_count": 62,
      "outputs": [
        {
          "output_type": "stream",
          "text": [
            "medoids:\n",
            "[110 180]\n",
            "[110 280]\n",
            "[90 15]\n",
            "\n",
            "clustering result:\n",
            "label 0:　[ 70 130]\n",
            "label 0:　[ 50 140]\n",
            "label 0:　[110 200]\n",
            "label 0:　[110 180]\n",
            "label 0:　[110 125]\n",
            "label 0:　[130 210]\n",
            "label 0:　[ 90 200]\n",
            "label 0:　[ 90 210]\n",
            "label 0:　[120 220]\n",
            "label 0:　[120 210]\n",
            "label 0:　[110 140]\n",
            "label 0:　[110 180]\n",
            "label 0:　[110 180]\n",
            "label 0:　[110 140]\n",
            "label 0:　[110 220]\n",
            "label 0:　[100 140]\n",
            "label 0:　[100 190]\n",
            "label 0:　[110 125]\n",
            "label 0:　[110 200]\n",
            "label 0:　[120 160]\n",
            "label 0:　[110 135]\n",
            "label 0:　[100 140]\n",
            "label 0:　[110 170]\n",
            "label 0:　[120 220]\n",
            "label 0:　[110 180]\n",
            "label 0:　[110 170]\n",
            "label 0:　[140 170]\n",
            "label 0:　[100 150]\n",
            "label 0:　[110 180]\n",
            "label 0:　[150  95]\n",
            "label 0:　[150 150]\n",
            "label 0:　[160 150]\n",
            "label 0:　[100 220]\n",
            "label 0:　[120 190]\n",
            "label 0:　[140 220]\n",
            "label 0:　[ 90 170]\n",
            "label 0:　[130 170]\n",
            "label 0:　[120 200]\n",
            "label 0:　[100 135]\n",
            "label 0:　[120 210]\n",
            "label 0:　[100 140]\n",
            "label 0:　[110 230]\n",
            "label 0:　[110 200]\n",
            "label 0:　[140 190]\n",
            "label 0:　[100 200]\n",
            "label 0:　[110 140]\n",
            "label 0:　[100 230]\n",
            "label 0:　[100 200]\n",
            "label 0:　[110 200]\n",
            "label 1:　[ 70 260]\n",
            "label 1:　[110 290]\n",
            "label 1:　[110 280]\n",
            "label 1:　[100 290]\n",
            "label 1:　[120 240]\n",
            "label 1:　[110 280]\n",
            "label 1:　[110 250]\n",
            "label 1:　[110 260]\n",
            "label 1:　[100 320]\n",
            "label 1:　[110 240]\n",
            "label 1:　[110 290]\n",
            "label 1:　[110 250]\n",
            "label 2:　[120  15]\n",
            "label 2:　[110  90]\n",
            "label 2:　[100  80]\n",
            "label 2:　[100   0]\n",
            "label 2:　[100  45]\n",
            "label 2:　[120  75]\n",
            "label 2:　[100   0]\n",
            "label 2:　[50  0]\n",
            "label 2:　[50  0]\n",
            "label 2:　[100   0]\n",
            "label 2:　[90  0]\n",
            "label 2:　[80  0]\n",
            "label 2:　[90  0]\n",
            "label 2:　[90  0]\n",
            "label 2:　[110  70]\n",
            "label 2:　[90 15]\n"
          ],
          "name": "stdout"
        }
      ]
    },
    {
      "cell_type": "markdown",
      "metadata": {
        "id": "IMBE_FXNBeMS"
      },
      "source": [
        "# AGNES (Implementation)"
      ]
    },
    {
      "cell_type": "code",
      "metadata": {
        "id": "P1kNjXj9DZvA",
        "colab": {
          "base_uri": "https://localhost:8080/",
          "height": 551
        },
        "outputId": "3fcb7756-11c6-401c-a8f4-e769a856039a"
      },
      "source": [
        "data = '''\r\n",
        "1,70,130,\r\n",
        "2,120,15,\r\n",
        "3,70,260,\r\n",
        "4,50,140,\r\n",
        "5,110,200,\r\n",
        "6,110,180,\r\n",
        "7,110,125,\r\n",
        "8,130,210,\r\n",
        "9,90,200,\r\n",
        "10,90,210,\r\n",
        "11,120,220,\r\n",
        "12,110,290,\r\n",
        "13,120,210,\r\n",
        "14,110,140,\r\n",
        "15,110,180,\r\n",
        "16,110,280,\r\n",
        "17,100,290,\r\n",
        "18,110,90,\r\n",
        "19,110,180,\r\n",
        "20,110,140,\r\n",
        "21,100,80,\r\n",
        "22,110,220,\r\n",
        "23,100,140,\r\n",
        "24,100,190,\r\n",
        "25,110,125,\r\n",
        "26,110,200,\r\n",
        "27,100,0,\r\n",
        "28,120,160,\r\n",
        "29,120,240,\r\n",
        "30,110,135,\r\n",
        "31,100,45,\r\n",
        "32,110,280,\r\n",
        "33,100,140,\r\n",
        "34,110,170,\r\n",
        "35,120,75,\r\n",
        "36,120,220,\r\n",
        "37,110,250,\r\n",
        "38,110,180,\r\n",
        "39,110,170,\r\n",
        "40,140,170,\r\n",
        "41,110,260,\r\n",
        "42,100,150,\r\n",
        "43,110,180,\r\n",
        "44,100,0,\r\n",
        "45,150,95,\r\n",
        "46,150,150,\r\n",
        "47,160,150,\r\n",
        "48,100,220,\r\n",
        "49,120,190,\r\n",
        "50,140,220,\r\n",
        "51,90,170,\r\n",
        "52,130,170,\r\n",
        "53,120,200,\r\n",
        "54,100,320,\r\n",
        "55,50,0,\r\n",
        "56,50,0,\r\n",
        "57,100,135,\r\n",
        "58,100,0,\r\n",
        "59,120,210,\r\n",
        "60,100,140,\r\n",
        "61,90,0,\r\n",
        "62,110,240,\r\n",
        "63,110,290,\r\n",
        "64,80,0,\r\n",
        "65,90,0,\r\n",
        "66,90,0,\r\n",
        "67,110,70,\r\n",
        "68,110,230,\r\n",
        "69,90,15,\r\n",
        "70,110,200,\r\n",
        "71,140,190,\r\n",
        "72,100,200,\r\n",
        "73,110,250,\r\n",
        "74,110,140,\r\n",
        "75,100,230,\r\n",
        "76,100,200,\r\n",
        "77,110,200,\r\n",
        "'''\r\n",
        "\r\n",
        "# Load data set\r\n",
        "\r\n",
        "def load_dataset(data):\r\n",
        "    data_   = data.strip().split(',')\r\n",
        "    dataset = [(float(data_[i]), float(data_[i+1])) for i in range(1, len(data_)-1, 3)]\r\n",
        "    return dataset\r\n",
        "\r\n",
        "def show_dataset(dataset):\r\n",
        "    for item in dataset:\r\n",
        "        plt.plot(item[0], item[1], 'ob')\r\n",
        "    plt.title(\"Dataset\")\r\n",
        "    plt.show()\r\n",
        "\r\n",
        "\r\n",
        "# Calculate the Euclidean distance between two points and return\r\n",
        "\r\n",
        "def elu_distance(a, b):\r\n",
        "    dist = np.sqrt(np.sum(np.square(np.array(a) - np.array(b))))\r\n",
        "    return dist\r\n",
        "\r\n",
        "# Calculate the minimum distance between Ci, Cj and return\r\n",
        "\r\n",
        "def dist_min(ci, cj):\r\n",
        "    return min(elu_distance(i, j) for i in ci for j in cj)\r\n",
        "\r\n",
        "\r\n",
        "\r\n",
        "# Calculate the maximum distance between Ci, Cj and return\r\n",
        "\r\n",
        "def dist_max(ci, cj):\r\n",
        "    return max(elu_distance(i, j) for i in ci for j in cj)\r\n",
        "\r\n",
        "\r\n",
        "\r\n",
        "# Calculate the average distance between the set Ci, Cj and return\r\n",
        "\r\n",
        "def dist_avg(ci, cj):\r\n",
        "    return sum(elu_distance(i, j) for i in ci for j in cj) / (len(ci) * len(cj))\r\n",
        "\r\n",
        "# Find the two clusters with the smallest distance and return\r\n",
        "\r\n",
        "def find_index(m):\r\n",
        "    min_dist = float('inf')\r\n",
        "    x = y = 0\r\n",
        "    for i in range(len(m)):\r\n",
        "        for j in range(len(m[i])):\r\n",
        "            if i != j and m[i][j] < min_dist:\r\n",
        "                min_dist, x, y = m[i][j], i, j\r\n",
        "    return x, y, min_dist\r\n",
        "\r\n",
        "\r\n",
        "\r\n",
        "\r\n",
        "# AGNES Algorithm: Hierarchical clustering algorithm of \"bottom-up\" aggregation strategy\r\n",
        "# 1. Use each sample in the data set as an initial cluster\r\n",
        "# 2. Find the closest two clusters and merge them\r\n",
        "# 3. Repeat step 2 continuously until the preset number of clusters is reached \r\n",
        "\r\n",
        "\r\n",
        "def agnes(dataset, dist, k):\r\n",
        "   # Initialize cluster clusters and distance matrix\r\n",
        "    c, m = [], []\r\n",
        "  # Use each sample in the data set as an initial cluster\r\n",
        "    for item in dataset:\r\n",
        "        ci = []\r\n",
        "        ci.append(item)\r\n",
        "        c.append(ci)\r\n",
        "    # Calculate the distance between clusters based on a certain distance calculation method between sets\r\n",
        "    for i in c:\r\n",
        "        mi = []\r\n",
        "        for j in c:\r\n",
        "            mi.append(dist(i, j))\r\n",
        "        m.append(mi)\r\n",
        "    q = len(dataset)\r\n",
        "\r\n",
        "    # Bottom-up\" aggregation\r\n",
        "    while q > k:\r\n",
        "        # Find the two closest clusters to merge\r\n",
        "        x, y, min_dist = find_index(m)\r\n",
        "        c[x].extend(c[y])\r\n",
        "        # Update clusters\r\n",
        "        c.remove(c[y])\r\n",
        "        # Recalculate the distance between clusters\r\n",
        "        m = []\r\n",
        "        for i in c:\r\n",
        "            mi = []\r\n",
        "            for j in c:\r\n",
        "                mi.append(dist(i, j))\r\n",
        "            m.append(mi)\r\n",
        "        q -= 1\r\n",
        "    return c\r\n",
        "\r\n",
        "# Show clustering results\r\n",
        "\r\n",
        "def show_cluster(cluster):\r\n",
        "    # Show clustering results\r\n",
        "    colors = ['or', 'ob', 'og', 'ok', 'oy', 'ow']\r\n",
        "    for i in range(len(cluster)):\r\n",
        "        for item in cluster[i]:\r\n",
        "            plt.plot(item[0], item[1], colors[i])\r\n",
        "    plt.title(\"AGNES Clustering\")\r\n",
        "    plt.show()\r\n",
        "    \r\n",
        "\r\n",
        "if __name__ == \"__main__\":\r\n",
        "    dataset = load_dataset(data)\r\n",
        "    show_dataset(dataset)\r\n",
        "    k = 3\r\n",
        "    cluster = agnes(dataset, dist_avg, k)\r\n",
        "    show_cluster(cluster)\r\n",
        "   "
      ],
      "execution_count": 48,
      "outputs": [
        {
          "output_type": "display_data",
          "data": {
            "image/png": "[encoded data removed]",
            "text/plain": [
              "<Figure size 432x288 with 1 Axes>"
            ]
          },
          "metadata": {
            "tags": []
          }
        },
        {
          "output_type": "display_data",
          "data": {
            "image/png": "[encoded data removed]",
            "text/plain": [
              "<Figure size 432x288 with 1 Axes>"
            ]
          },
          "metadata": {
            "tags": []
          }
        }
      ]
    },
    {
      "cell_type": "markdown",
      "metadata": {
        "id": "bcrZ3Re1BLri"
      },
      "source": [
        "# DBSCAN (Implementation)"
      ]
    },
    {
      "cell_type": "code",
      "metadata": {
        "id": "Sp7n9HnqMzFY"
      },
      "source": [
        "data = '''\r\n",
        "1,70,130,\r\n",
        "2,120,15,\r\n",
        "3,70,260,\r\n",
        "4,50,140,\r\n",
        "5,110,200,\r\n",
        "6,110,180,\r\n",
        "7,110,125,\r\n",
        "8,130,210,\r\n",
        "9,90,200,\r\n",
        "10,90,210,\r\n",
        "11,120,220,\r\n",
        "12,110,290,\r\n",
        "13,120,210,\r\n",
        "14,110,140,\r\n",
        "15,110,180,\r\n",
        "16,110,280,\r\n",
        "17,100,290,\r\n",
        "18,110,90,\r\n",
        "19,110,180,\r\n",
        "20,110,140,\r\n",
        "21,100,80,\r\n",
        "22,110,220,\r\n",
        "23,100,140,\r\n",
        "24,100,190,\r\n",
        "25,110,125,\r\n",
        "26,110,200,\r\n",
        "27,100,0,\r\n",
        "28,120,160,\r\n",
        "29,120,240,\r\n",
        "30,110,135,\r\n",
        "31,100,45,\r\n",
        "32,110,280,\r\n",
        "33,100,140,\r\n",
        "34,110,170,\r\n",
        "35,120,75,\r\n",
        "36,120,220,\r\n",
        "37,110,250,\r\n",
        "38,110,180,\r\n",
        "39,110,170,\r\n",
        "40,140,170,\r\n",
        "41,110,260,\r\n",
        "42,100,150,\r\n",
        "43,110,180,\r\n",
        "44,100,0,\r\n",
        "45,150,95,\r\n",
        "46,150,150,\r\n",
        "47,160,150,\r\n",
        "48,100,220,\r\n",
        "49,120,190,\r\n",
        "50,140,220,\r\n",
        "51,90,170,\r\n",
        "52,130,170,\r\n",
        "53,120,200,\r\n",
        "54,100,320,\r\n",
        "55,50,0,\r\n",
        "56,50,0,\r\n",
        "57,100,135,\r\n",
        "58,100,0,\r\n",
        "59,120,210,\r\n",
        "60,100,140,\r\n",
        "61,90,0,\r\n",
        "62,110,240,\r\n",
        "63,110,290,\r\n",
        "64,80,0,\r\n",
        "65,90,0,\r\n",
        "66,90,0,\r\n",
        "67,110,70,\r\n",
        "68,110,230,\r\n",
        "69,90,15,\r\n",
        "70,110,200,\r\n",
        "71,140,190,\r\n",
        "72,100,200,\r\n",
        "73,110,250,\r\n",
        "74,110,140,\r\n",
        "75,100,230,\r\n",
        "76,100,200,\r\n",
        "77,110,200,\r\n",
        "'''\r\n",
        "\r\n",
        "def load_dataset(data):\r\n",
        "    data_   = data.strip().split(',')\r\n",
        "    dataset = [(float(data_[i]), float(data_[i+1])) for i in range(1, len(data_)-1, 3)]\r\n",
        "    return dataset\r\n",
        "\r\n",
        "# Show the data set distribution before clustering \r\n",
        "\r\n",
        "def show_dataset(dataset):\r\n",
        "    for item in dataset:\r\n",
        "        plt.plot(item[0], item[1], 'ob')\r\n",
        "    plt.title(\"Dataset\")\r\n",
        "    plt.show()\r\n",
        "\r\n",
        "def elu_distance(a, b):\r\n",
        "    dist = np.sqrt(np.sum(np.square(np.array(a) - np.array(b))))\r\n",
        "    return dist\r\n",
        "\r\n",
        "\r\n",
        "\r\n",
        "# DBSCAN algorithm: \r\n",
        "# Derive the maximum density connected sample set based on the density reachability relationship\r\n",
        "# 1. Find all core objects according to the given neighborhood parameters (e, min_points)\r\n",
        "# 2. Taking any core object as the starting point, find out the density of the samples to generate clusters\r\n",
        "# 3. Stop running when all core objects have been accessed \r\n",
        "\r\n",
        "def dbscan(dataset, e, min_points):\r\n",
        "    # Number of clusters \r\n",
        "    k  = 0\r\n",
        "    # Core object collection\r\n",
        "    omega  = set()\r\n",
        "    # Sample collection not visited \r\n",
        "    not_visit = set(dataset)\r\n",
        "    # Clustering results\r\n",
        "    cluster = dict()\r\n",
        "\r\n",
        "    # Traverse the sample set to find all core objects \r\n",
        "    for di in dataset:\r\n",
        "        if len([dj for dj in dataset if elu_distance(di, dj) <= e]) >= min_points:\r\n",
        "            omega.add(di)\r\n",
        "\r\n",
        "    while len(omega):\r\n",
        "        # Record the sample collection currently not visited \r\n",
        "        not_visit_old = not_visit\r\n",
        "        # Randomly select a core object core \r\n",
        "        core = list(omega)[random.randint(0, len(omega)-1)]\r\n",
        "        not_visit  = not_visit - set(core)\r\n",
        "        # Initialize the queue, store core objects or samples \r\n",
        "        core_deque = []\r\n",
        "        core_deque.append(core)\r\n",
        "\r\n",
        "\r\n",
        "        while len(core_deque):\r\n",
        "            coreq = core_deque[0]\r\n",
        "            # Find sample points in the neighborhood of coreq\r\n",
        "            coreq_neighborhood = [di for di in dataset if elu_distance(di, coreq) <= e]\r\n",
        "\r\n",
        "            # If coreq is the core object, find the unvisited samples in its neighborhood by intersection method \r\n",
        "            if len(coreq_neighborhood) >= min_points:\r\n",
        "                intersection = not_visit & set(coreq_neighborhood)\r\n",
        "                core_deque  += list(intersection)\r\n",
        "                not_visit    = not_visit - intersection\r\n",
        "\r\n",
        "            core_deque.remove(coreq)\r\n",
        "\r\n",
        "        k += 1\r\n",
        "        Ck = not_visit_old - not_visit\r\n",
        "        omega = omega - Ck\r\n",
        "        cluster[k] = list(Ck)\r\n",
        "    return cluster\r\n",
        "\r\n",
        "def show_cluster(cluster):\r\n",
        "    colors = ['or', 'ob', 'og', 'ok', 'oy', 'ow']\r\n",
        "    for key in cluster.keys():\r\n",
        "        for item in cluster[key]:\r\n",
        "            plt.plot(item[0], item[1], colors[key])\r\n",
        "    plt.title(\"DBSCAN Clustering\")\r\n",
        "    plt.show()\r\n",
        "\r\n",
        "\r\n",
        "    "
      ],
      "execution_count": 49,
      "outputs": []
    },
    {
      "cell_type": "code",
      "metadata": {
        "colab": {
          "base_uri": "https://localhost:8080/",
          "height": 608
        },
        "id": "JKfv5vYghgs5",
        "outputId": "d7afb125-2dc2-4f6a-a379-ec9d700735f0"
      },
      "source": [
        "dataset = load_dataset(data)\r\n",
        "show_dataset(dataset)\r\n",
        "# e, min_points = 0.11, 5\r\n",
        "e, min_points = 25, 3 # change to 10,20,30,25\r\n",
        "cluster = dbscan(dataset, e, min_points)\r\n",
        "print(cluster)\r\n",
        "print(cluster.keys())\r\n",
        "show_cluster(cluster)\r\n"
      ],
      "execution_count": 50,
      "outputs": [
        {
          "output_type": "display_data",
          "data": {
            "image/png": "[encoded data removed]",
            "text/plain": [
              "<Figure size 432x288 with 1 Axes>"
            ]
          },
          "metadata": {
            "tags": []
          }
        },
        {
          "output_type": "stream",
          "text": [
            "{1: [(120.0, 190.0), (110.0, 230.0), (140.0, 190.0), (90.0, 170.0), (120.0, 160.0), (110.0, 200.0), (110.0, 125.0), (120.0, 200.0), (110.0, 240.0), (100.0, 230.0), (100.0, 200.0), (120.0, 240.0), (110.0, 280.0), (130.0, 170.0), (90.0, 200.0), (110.0, 170.0), (120.0, 210.0), (130.0, 210.0), (110.0, 135.0), (110.0, 140.0), (110.0, 250.0), (100.0, 290.0), (110.0, 180.0), (110.0, 290.0), (140.0, 170.0), (90.0, 210.0), (110.0, 220.0), (160.0, 150.0), (100.0, 220.0), (100.0, 135.0), (120.0, 220.0), (150.0, 150.0), (110.0, 260.0), (100.0, 140.0), (100.0, 150.0), (140.0, 220.0), (100.0, 190.0)], 2: [(90.0, 15.0), (90.0, 0.0), (120.0, 15.0), (80.0, 0.0), (100.0, 0.0)], 3: [(110.0, 90.0), (120.0, 75.0), (110.0, 70.0), (100.0, 80.0)]}\n",
            "dict_keys([1, 2, 3])\n"
          ],
          "name": "stdout"
        },
        {
          "output_type": "display_data",
          "data": {
            "image/png": "[encoded data removed]",
            "text/plain": [
              "<Figure size 432x288 with 1 Axes>"
            ]
          },
          "metadata": {
            "tags": []
          }
        }
      ]
    }
  ]
}